{
 "cells": [
  {
   "cell_type": "code",
   "execution_count": 2,
   "id": "c12240f4-2b61-44c3-ba15-980e0857cd86",
   "metadata": {
    "tags": []
   },
   "outputs": [
    {
     "name": "stdout",
     "output_type": "stream",
     "text": [
      "WARNING:tensorflow:From C:\\Users\\ASUS\\anaconda3\\Lib\\site-packages\\keras\\src\\losses.py:2976: The name tf.losses.sparse_softmax_cross_entropy is deprecated. Please use tf.compat.v1.losses.sparse_softmax_cross_entropy instead.\n",
      "\n"
     ]
    }
   ],
   "source": [
    "import os, cv2, glob, random, math\n",
    "import matplotlib.pyplot as plt\n",
    "import numpy as np\n",
    "import tensorflow as tf\n",
    "from keras.preprocessing.image import ImageDataGenerator\n",
    "from tensorflow.keras.preprocessing.image import ImageDataGenerator\n",
    "from tensorflow.keras.applications import VGG19\n",
    "from tensorflow.keras.models import Model\n",
    "from tensorflow.keras.layers import Input, Conv2D, MaxPooling2D, UpSampling2D, concatenate"
   ]
  },
  {
   "cell_type": "code",
   "execution_count": 5,
   "id": "125d69d3-9845-4031-8cc6-8c0f7fe85472",
   "metadata": {
    "tags": []
   },
   "outputs": [],
   "source": [
    "o = 'E:Anotasi Sawit/augmentation/original/'           # penyimpanan file hasil split data\n",
    "for i, img in enumerate(glob.glob(\"D:Backup Riset S3/primer/primeruji/train/*.jpg\"),1):   # proses interasi pembacaan data mask\n",
    "    image = cv2.imread(img)                          # membaca data\n",
    "    cv2.imwrite(os.path.join(o, 'o_{}.png'.format(i)), image)  "
   ]
  },
  {
   "cell_type": "markdown",
   "id": "1bda1de1-0d0c-4b56-b27c-81d078bbb48b",
   "metadata": {},
   "source": [
    "Berikut adalah beberapa teknik augmentasi data yang umum digunakan dalam pelatihan jaringan saraf:\n",
    "\n",
    "Rotasi: Memutar gambar dalam berbagai sudut.\n",
    "Pergeseran: Memindahkan gambar ke atas, bawah, kanan, atau kiri.\n",
    "Zoom: Memperbesar atau memperkecil gambar.\n",
    "Pemantulan: Membalik gambar secara horizontal atau vertikal.\n",
    "Perubahan Skala Warna: Mengubah kecerahan, kontras, atau saturasi gambar.\n",
    "Noise Injection: Menambahkan noise ke gambar.\n",
    "X Elastic Deformation: Memutar, meregang, dan merentangkan gambar secara acak."
   ]
  },
  {
   "cell_type": "code",
   "execution_count": 13,
   "id": "01c9333f-d651-4b87-a036-7cc374651351",
   "metadata": {
    "tags": []
   },
   "outputs": [],
   "source": [
    "''' flip the maskimage horizontally '''\n",
    "h = 'E:Anotasi Sawit/augmentation/horizontal/'           # penyimpanan file hasil split data\n",
    "for i, img in enumerate(glob.glob(\"D:Backup Riset S3/primer/primeruji/train/*.jpg\"),1):   # proses interasi pembacaan data mask\n",
    "    image = cv2.imread(img)                          # membaca data\n",
    "    horizontal_flip = cv2.flip(image, flipCode=1)    # proses flip/ rotasi horisontal\n",
    "    cv2.imwrite(os.path.join(h, 'h_{}.png'.format(i)), horizontal_flip)  "
   ]
  },
  {
   "cell_type": "code",
   "execution_count": 26,
   "id": "96053a50-4568-4664-a5ae-fc71e2b431b8",
   "metadata": {
    "tags": []
   },
   "outputs": [],
   "source": [
    "''' flip the maskimage vertically '''\n",
    "v = 'E:Anotasi Sawit/augmentation/vertical/' \n",
    "for i, img in enumerate(glob.glob(\"D:Backup Riset S3/primer/primeruji/train/*.jpg\"),1):   # proses interasi pembacaan data mask\n",
    "    image = cv2.imread(img)                        # membaca data \n",
    "    vertical_flip = cv2.flip(image, flipCode=0)    # proses flip/ rotasi vertical\n",
    "    cv2.imwrite(os.path.join(v, 'v_{}.png'.format(i)), vertical_flip)"
   ]
  },
  {
   "cell_type": "code",
   "execution_count": 44,
   "id": "4ce26e1f-a1be-4e96-869b-72c4a83e6a6a",
   "metadata": {
    "tags": []
   },
   "outputs": [],
   "source": [
    "''' flip the mask image  both horizontally and vertically  '''\n",
    "vh = 'E:Anotasi Sawit/augmentation/horizontal+vertical/' \n",
    "for i, img in enumerate(glob.glob(\"D:Backup Riset S3/primer/primeruji/train/*.jpg\"),1):  # proses interasi pembacaan data mask\n",
    "    image = cv2.imread(img)                         # membaca data\n",
    "    flip_image = cv2.flip(image, flipCode=-0)       # proses flip/ rotasi horisontal\n",
    "    flip_image = cv2.flip(flip_image, flipCode=1)   # proses flip/ rotasi vertical\n",
    "    cv2.imwrite(os.path.join(vh, 'vh_{}.png'.format(i)), flip_image)   "
   ]
  },
  {
   "cell_type": "code",
   "execution_count": 28,
   "id": "26f86aa8-55d4-4a63-a0f2-abf89446eee5",
   "metadata": {
    "tags": []
   },
   "outputs": [],
   "source": [
    "''' # ----Rotasi 45 gambar---------- '''\n",
    "r45 = 'E:Anotasi Sawit/augmentation/rotation45/' \n",
    "for i, img in enumerate(glob.glob(\"D:Backup Riset S3/primer/primeruji/train/*.jpg\"),1): # proses interasi pembacaan data mask\n",
    "    rotation_angle = 45\n",
    "    image = cv2.imread(img)         # membaca data\n",
    "    height, width = image.shape[:2]\n",
    "    rotation_matrix = cv2.getRotationMatrix2D((width/2, height/2), rotation_angle, 1)\n",
    "    rotated_image = cv2.warpAffine(image, rotation_matrix, (width, height))\n",
    "    cv2.imwrite(os.path.join(r45, 'r45_{}.png'.format(i)), rotated_image)  "
   ]
  },
  {
   "cell_type": "code",
   "execution_count": 47,
   "id": "2f942bbf-f439-43dc-88bd-23d2d293a89b",
   "metadata": {
    "tags": []
   },
   "outputs": [],
   "source": [
    "''' # ----Rotasi 90 gambar---------- '''\n",
    "r90 = 'E:Anotasi Sawit/augmentation/rotation90/' \n",
    "for i, img in enumerate(glob.glob(\"D:Backup Riset S3/primer/primeruji/train/*.jpg\"),1): # proses interasi pembacaan data mask\n",
    "    rotation_angle = 90\n",
    "    image = cv2.imread(img)         # membaca data\n",
    "    height, width = image.shape[:2]\n",
    "    rotation_matrix = cv2.getRotationMatrix2D((width/2, height/2), rotation_angle, 1)\n",
    "    rotated_image = cv2.warpAffine(image, rotation_matrix, (width, height))\n",
    "    cv2.imwrite(os.path.join(r90, 'r90_{}.png'.format(i)), rotated_image)   "
   ]
  },
  {
   "cell_type": "code",
   "execution_count": 46,
   "id": "9148d33c-01ce-4aa4-8d49-38b181f49592",
   "metadata": {
    "tags": []
   },
   "outputs": [],
   "source": [
    "''' # ----Rotasi 180 gambar---------- '''\n",
    "r180 = 'E:Anotasi Sawit/augmentation/rotation180/' \n",
    "for i, img in enumerate(glob.glob(\"D:Backup Riset S3/primer/primeruji/train/*.jpg\"),1): # proses interasi pembacaan data mask\n",
    "    rotation_angle = 180\n",
    "    image = cv2.imread(img)         # membaca data\n",
    "    height, width = image.shape[:2]\n",
    "    rotation_matrix = cv2.getRotationMatrix2D((width/2, height/2), rotation_angle, 1)\n",
    "    rotated_image = cv2.warpAffine(image, rotation_matrix, (width, height))\n",
    "    cv2.imwrite(os.path.join(r180, 'r180_{}.png'.format(i)), rotated_image)   "
   ]
  },
  {
   "cell_type": "code",
   "execution_count": 39,
   "id": "b9e1aadd-9f88-4cf7-94ed-fd7d9da68fab",
   "metadata": {
    "tags": []
   },
   "outputs": [],
   "source": [
    "''' # ----Rotasi 270 gambar---------- '''\n",
    "r270 = 'E:Anotasi Sawit/augmentation/rotation270/'\n",
    "for i, img in enumerate(glob.glob(\"D:Backup Riset S3/primer/primeruji/train/*.jpg\"),1): # proses interasi pembacaan data mask\n",
    "    rotation_angle = 270\n",
    "    image = cv2.imread(img)         # membaca data\n",
    "    height, width = image.shape[:2]\n",
    "    rotation_matrix = cv2.getRotationMatrix2D((width/2, height/2), rotation_angle, 1)\n",
    "    rotated_image = cv2.warpAffine(image, rotation_matrix, (width, height))\n",
    "    cv2.imwrite(os.path.join(r270, 'r270_{}.png'.format(i)), rotated_image)  "
   ]
  },
  {
   "cell_type": "code",
   "execution_count": 40,
   "id": "ace8cd96-cc35-4181-863e-de7e10f6bc3d",
   "metadata": {
    "tags": []
   },
   "outputs": [],
   "source": [
    "''' # ----Perubahan Skala besar---------- '''\n",
    "su = 'E:Anotasi Sawit/augmentation/scalaUp/'\n",
    "for i, img in enumerate(glob.glob(\"D:Backup Riset S3/primer/primeruji/train/*.jpg\"),1): # proses interasi pembacaan data mask\n",
    "    image = cv2.imread(img)         # membaca data\n",
    "    # Faktor skala untuk memperbesar dan memperkecil gambar\n",
    "    scaling_factor_up = 2  # Untuk memperbesar gambar\n",
    "    # Memperbesar gambar\n",
    "    resized_up = cv2.resize(image, None, fx=scaling_factor_up, fy=scaling_factor_up, interpolation=cv2.INTER_LINEAR)\n",
    "    cv2.imwrite(os.path.join(su, 'su_{}.png'.format(i)), resized_up)  "
   ]
  },
  {
   "cell_type": "code",
   "execution_count": 4,
   "id": "6ed859b6-1236-4f39-ac34-b6dd005c9ff6",
   "metadata": {
    "tags": []
   },
   "outputs": [],
   "source": [
    "''' # ----Perubahan Skala kecil---------- '''\n",
    "sd = 'E:Anotasi Sawit/augmentation/scalaDown/'\n",
    "for i, img in enumerate(glob.glob(\"D:Backup Riset S3/primer/primeruji/train/*.jpg\"),1): # proses interasi pembacaan data mask\n",
    "    image = cv2.imread(img)         # membaca data\n",
    "    # Faktor skala untuk memperbesar dan memperkecil gambar\n",
    "    scaling_factor_down = 0.5  # Untuk memperkecil gambar\n",
    "    # Memperkecil gambar\n",
    "    resized_down = cv2.resize(image, None, fx=scaling_factor_down, fy=scaling_factor_down, interpolation=cv2.INTER_LINEAR)\n",
    "    cv2.imwrite(os.path.join(sd, 'sd_{}.png'.format(i)), resized_down)  "
   ]
  },
  {
   "cell_type": "code",
   "execution_count": 3,
   "id": "850ee6c1-ee75-4894-b8fc-6803e322a295",
   "metadata": {
    "tags": []
   },
   "outputs": [],
   "source": [
    "''' # ----Penambahan noise gambar---------- '''\n",
    "n = 'E:Anotasi Sawit/augmentation/addNoise/'\n",
    "for i, img in enumerate(glob.glob(\"D:Backup Riset S3/primer/primeruji/train/*.jpg\"),1):\n",
    "    image = cv2.imread(img)         # membaca data\n",
    "    # Mendefinisikan mean (rata-rata) dan standard deviation (deviasi standar) untuk Gaussian noise\n",
    "    mean = 0\n",
    "    std_dev = 50\n",
    "    # Menghasilkan Gaussian noise dengan ukuran yang sama dengan gambar\n",
    "    gaussian_noise = np.random.normal(mean, std_dev, image.shape).astype('uint8')\n",
    "    # Menambahkan Gaussian noise ke gambar\n",
    "    noisy_image = cv2.add(image, gaussian_noise)\n",
    "    cv2.imwrite(os.path.join(n, 'n_{}.png'.format(i)), gaussian_noise)   "
   ]
  },
  {
   "cell_type": "code",
   "execution_count": 7,
   "id": "153d0156-ff1b-4723-8643-f7680fe9828b",
   "metadata": {
    "tags": []
   },
   "outputs": [],
   "source": [
    "''' # ----Penambahan shearing gambar---------- '''\n",
    "sh = 'E:Anotasi Sawit/augmentation/shearing/'\n",
    "\n",
    "# Fungsi untuk melakukan shearing pada gambar\n",
    "def shear_image(image, shear_range):\n",
    "    rows, cols = image.shape[:2]\n",
    "    # Menentukan matriks transformasi untuk shearing\n",
    "    M = np.float32([[1, shear_range, 0], [0, 1, 0]])\n",
    "    # Melakukan transformasi shearing menggunakan warpAffine\n",
    "    sheared_image = cv2.warpAffine(image, M, (cols, rows))\n",
    "    return sheared_image\n",
    "\n",
    "# Looping untuk mengambil dan memproses setiap gambar\n",
    "for i, img in enumerate(glob.glob(\"D:Backup Riset S3/primer/primeruji/train/*.jpg\"),1):\n",
    "    image = cv2.imread(img)         # Membaca data gambar\n",
    "    # Menentukan rentang shearing yang diinginkan\n",
    "    shear_range = np.random.uniform(-0.2, 0.2)  # Anda dapat menyesuaikan rentang ini sesuai kebutuhan\n",
    "    # Memanggil fungsi shear_image untuk menerapkan shearing pada gambar\n",
    "    sheared_image = shear_image(image, shear_range)\n",
    "    # Menyimpan gambar hasil shearing\n",
    "    cv2.imwrite(os.path.join(sh, 'sh_{}.png'.format(i)), sheared_image)"
   ]
  },
  {
   "cell_type": "markdown",
   "id": "ea74c1f3-6899-4f46-93b9-43c28dd50f5c",
   "metadata": {},
   "source": [
    "#==============================================================="
   ]
  },
  {
   "cell_type": "code",
   "execution_count": 8,
   "id": "332457d2-2baa-4bb5-800f-d3a4a5db1194",
   "metadata": {
    "tags": []
   },
   "outputs": [],
   "source": [
    "''' # ----Penambahan gabungan augmentasi gambar horizontal+vertical+Rotation 180 ---------- '''\n",
    "m1 ='E:Anotasi Sawit/augmentation/merger1/'\n",
    "\n",
    "for i, img in enumerate(glob.glob(\"D:Backup Riset S3/primer/primeruji/train/*.jpg\"),1):\n",
    "    image = cv2.imread(img)         # membaca data\n",
    "    # Merger augmentation \n",
    "    flip_image = cv2.flip(image, flipCode=-0)       # proses flip/ rotasi horisontal\n",
    "    flip_image = cv2.flip(flip_image, flipCode=1)  \n",
    "    rotation_angle = 180\n",
    "    height, width = image.shape[:2]\n",
    "    rotation_matrix = cv2.getRotationMatrix2D((width/2, height/2), rotation_angle, 1)\n",
    "    rotated_image = cv2.warpAffine(image, rotation_matrix, (width, height))\n",
    "    cv2.imwrite(os.path.join(m1, 'm1_{}.png'.format(i)),  rotated_image)"
   ]
  },
  {
   "cell_type": "code",
   "execution_count": 9,
   "id": "9002b7c5-9043-48fb-91e7-973b6b976603",
   "metadata": {
    "tags": []
   },
   "outputs": [],
   "source": [
    "''' # ----Penambahan gabungan augmentasi gambar horizontal+vertical+Rotation 180 + Scala Down ---------- '''\n",
    "m2 ='E:Anotasi Sawit/augmentation/merger2/'\n",
    "\n",
    "for i, img in enumerate(glob.glob(\"D:Backup Riset S3/primer/primeruji/train/*.jpg\"),1):\n",
    "    image = cv2.imread(img)         # membaca data\n",
    "    # Merger augmentation \n",
    "    flip_image = cv2.flip(image, flipCode=-0)       # proses flip/ rotasi horisontal\n",
    "    flip_image = cv2.flip(flip_image, flipCode=1)  \n",
    "    rotation_angle = 180\n",
    "    height, width = image.shape[:2]\n",
    "    rotation_matrix = cv2.getRotationMatrix2D((width/2, height/2), rotation_angle, 1)\n",
    "    rotated_image = cv2.warpAffine(image, rotation_matrix, (width, height))\n",
    "    scaling_factor_down = 0.5  # Untuk memperkecil gambar\n",
    "    # Memperkecil gambar\n",
    "    resized_down = cv2.resize(rotated_image, None, fx=scaling_factor_down, fy=scaling_factor_down, interpolation=cv2.INTER_LINEAR)\n",
    "    cv2.imwrite(os.path.join(m2, 'm2_{}.png'.format(i)),  resized_down)  "
   ]
  },
  {
   "cell_type": "code",
   "execution_count": 3,
   "id": "80316db9-985a-48be-ab49-a0f0b2ad82cc",
   "metadata": {
    "tags": []
   },
   "outputs": [],
   "source": [
    "'' # ----Penambahan gabungan augmentasi gambar horizontal+vertical+Rotation 270 ---------- '''\n",
    "m3 ='E:Anotasi Sawit/augmentation/merger3/'\n",
    "\n",
    "for i, img in enumerate(glob.glob(\"D:Backup Riset S3/primer/primeruji/train/*.jpg\"),1):\n",
    "    image = cv2.imread(img)         # membaca data\n",
    "    # Merger augmentation \n",
    "    flip_image = cv2.flip(image, flipCode=-0)       # proses flip/ rotasi horisontal\n",
    "    flip_image = cv2.flip(flip_image, flipCode=1)  \n",
    "    rotation_angle = 270\n",
    "    height, width = image.shape[:2]\n",
    "    rotation_matrix = cv2.getRotationMatrix2D((width/2, height/2), rotation_angle, 1)\n",
    "    rotated_image = cv2.warpAffine(image, rotation_matrix, (width, height))\n",
    "    # scaling_factor_down = 0.5  # Untuk memperkecil gambar\n",
    "    # Memperkecil gambar\n",
    "    # resized_down = cv2.resize(rotated_image, None, fx=scaling_factor_down, fy=scaling_factor_down, interpolation=cv2.INTER_LINEAR)\n",
    "    # shear_range = np.random.uniform(-0.2, 0.2)  # Anda dapat menyesuaikan rentang ini sesuai kebutuhan\n",
    "    # Memanggil fungsi shear_image untuk menerapkan shearing pada gambar\n",
    "    # sheared_image = shear_image(resized_down, shear_range)\n",
    "    cv2.imwrite(os.path.join(m3, 'm3_{}.png'.format(i)),  rotated_image)  "
   ]
  },
  {
   "cell_type": "code",
   "execution_count": 16,
   "id": "fac9b7f3-8614-48e4-b255-f6cdeb3016d6",
   "metadata": {
    "tags": []
   },
   "outputs": [],
   "source": [
    "# Generate augmented data\n",
    "def generate_augmented_data(img):\n",
    "    img = img.reshape((1,) + img.shape)  # Reshape image to (1, height, width, channels)\n",
    "\n",
    "    # Configure data augmentation\n",
    "    datagen = ImageDataGenerator(\n",
    "        rotation_range=90,\n",
    "        width_shift_range=0.2,\n",
    "        height_shift_range=0.2,\n",
    "        shear_range=0.2,\n",
    "        zoom_range=0.2,\n",
    "        horizontal_flip=True,\n",
    "        fill_mode='nearest'\n",
    "    )\n",
    "\n",
    "    # Apply data augmentation\n",
    "    augmented_images = []\n",
    "    for batch in datagen.flow(img, batch_size=1):\n",
    "        augmented_images.append(batch[0])\n",
    "        break  # Only apply augmentation to one image\n",
    "\n",
    "    return augmented_images\n"
   ]
  },
  {
   "cell_type": "code",
   "execution_count": 17,
   "id": "c9f85aa5-0212-4e41-aefc-9e53333f6e94",
   "metadata": {
    "tags": []
   },
   "outputs": [],
   "source": [
    "# Load example image (replace 'example_image.jpg' with your image path)\n",
    "example_image = plt.imread('D:Backup Riset S3/primer/trainSplit256/S2_110.png')\n",
    "\n",
    "# Generate augmented data\n",
    "augmented_images = generate_augmented_data(example_image)\n",
    "\n",
    "# Create U-Net VGG model\n",
    "unet_vgg_model = create_unet_vgg()\n",
    "\n",
    "# Train the model using augmented images\n",
    "# Replace this with your training process"
   ]
  },
  {
   "cell_type": "code",
   "execution_count": null,
   "id": "5423bbf8-b7ae-4645-94f3-09b456d9a5c6",
   "metadata": {},
   "outputs": [],
   "source": []
  }
 ],
 "metadata": {
  "kernelspec": {
   "display_name": "Python 3 (ipykernel)",
   "language": "python",
   "name": "python3"
  },
  "language_info": {
   "codemirror_mode": {
    "name": "ipython",
    "version": 3
   },
   "file_extension": ".py",
   "mimetype": "text/x-python",
   "name": "python",
   "nbconvert_exporter": "python",
   "pygments_lexer": "ipython3",
   "version": "3.11.5"
  }
 },
 "nbformat": 4,
 "nbformat_minor": 5
}
